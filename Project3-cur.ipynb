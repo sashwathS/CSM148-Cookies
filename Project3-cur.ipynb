{
 "cells": [
  {
   "cell_type": "markdown",
   "id": "171d1d3f",
   "metadata": {},
   "source": [
    "# Project 3 #\n",
    "#### Sashwath Sundher ####"
   ]
  },
  {
   "cell_type": "markdown",
   "id": "c7c6db69",
   "metadata": {},
   "source": [
    "Import libraries."
   ]
  },
  {
   "cell_type": "code",
   "execution_count": 1,
   "id": "d5f0d83c",
   "metadata": {},
   "outputs": [],
   "source": [
    "import numpy as np\n",
    "import pandas as pd"
   ]
  },
  {
   "cell_type": "markdown",
   "id": "446d824e",
   "metadata": {},
   "source": [
    "Read dataframes."
   ]
  },
  {
   "cell_type": "code",
   "execution_count": 2,
   "id": "832c1896",
   "metadata": {},
   "outputs": [],
   "source": [
    "data_units = pd.read_csv('data/BrandTotalUnits.csv', thousands=',')\n",
    "data_sales = pd.read_csv('data/BrandTotalSales.csv', thousands=',')\n",
    "data_arp = pd.read_csv('data/BrandAverageRetailPrice.csv', thousands=',')\n",
    "data_details = pd.read_csv('data/BrandDetails.csv', thousands=',')"
   ]
  },
  {
   "cell_type": "markdown",
   "id": "d3d87918",
   "metadata": {},
   "source": [
    "Convert Months into time series."
   ]
  },
  {
   "cell_type": "code",
   "execution_count": 3,
   "id": "34f94c82",
   "metadata": {},
   "outputs": [],
   "source": [
    "data_units['Months'] = pd.to_datetime(data_units['Months'])\n",
    "data_sales['Months'] = pd.to_datetime(data_sales['Months'])\n",
    "data_arp['Months'] = pd.to_datetime(data_arp['Months'])"
   ]
  },
  {
   "cell_type": "markdown",
   "id": "b710a15f",
   "metadata": {},
   "source": [
    "Plot total monthly sales across all brands over time."
   ]
  },
  {
   "cell_type": "code",
   "execution_count": 4,
   "id": "5b08ee30",
   "metadata": {},
   "outputs": [
    {
     "data": {
      "text/plain": [
       "[<matplotlib.lines.Line2D at 0x22ebdda0340>]"
      ]
     },
     "execution_count": 4,
     "metadata": {},
     "output_type": "execute_result"
    },
    {
     "data": {
      "image/png": "[encoded data removed]",
      "text/plain": [
       "<Figure size 1152x576 with 1 Axes>"
      ]
     },
     "metadata": {
      "needs_background": "light"
     },
     "output_type": "display_data"
    }
   ],
   "source": [
    "from matplotlib import pyplot, dates\n",
    "\n",
    "months = data_sales['Months'].unique()\n",
    "all_sales = []\n",
    "for month in months:\n",
    "    monthly_sales = sum(data_sales[data_sales.Months == month]['Total Sales ($)'])\n",
    "    all_sales.append(monthly_sales)\n",
    "months = dates.date2num(months)\n",
    "pyplot.figure(figsize=(16,8))\n",
    "pyplot.plot_date(months, all_sales)"
   ]
  },
  {
   "cell_type": "markdown",
   "id": "34721352",
   "metadata": {},
   "source": [
    "Fill `top_increments` to calculate the feature cross 'Price Score'. `top_increments` stores the 4 best selling '$5 Price Increments' for each product type in 'Category L2'."
   ]
  },
  {
   "cell_type": "code",
   "execution_count": 5,
   "id": "50a4d41d",
   "metadata": {},
   "outputs": [],
   "source": [
    "# Get the unique categories\n",
    "categories = data_details['Category L2'].unique()\n",
    "# Get the unique increments\n",
    "increments = data_details['$5 Price Increment'].unique()\n",
    "# Collect top_increments for each category\n",
    "top_increments = {}\n",
    "# Iterate through categories\n",
    "for category in categories:\n",
    "    # Separate data of current category\n",
    "    category_data = data_details.loc[data_details['Category L2'] == category]\n",
    "    # Collect total_sales in each price increment for current category\n",
    "    total_sales = []\n",
    "    for increment in increments:\n",
    "        increment_data = category_data.loc[category_data['$5 Price Increment'] == increment]\n",
    "        total_sales.append((increment, sum(increment_data['Total Sales ($)'])))\n",
    "    # Sort the sales to get the top price increments\n",
    "    total_sales.sort(key=lambda tup:tup[1])\n",
    "    # Store top price increments for current category\n",
    "    top_increments[category] = [tup[0] for tup in total_sales[-4:]]"
   ]
  },
  {
   "cell_type": "markdown",
   "id": "26746e9f",
   "metadata": {},
   "source": [
    "Iterate through brands. Prepare the data for each brand. Combine the brands into a clean dataframe."
   ]
  },
  {
   "cell_type": "code",
   "execution_count": 6,
   "id": "c1ab28b1",
   "metadata": {},
   "outputs": [],
   "source": [
    "# Suppress SettingWithCopyWarning\n",
    "pd.options.mode.chained_assignment = None\n",
    "\n",
    "# Get the unique brands\n",
    "brands = data_details['Brand'].unique()\n",
    "\n",
    "# Initialize empty dataframe\n",
    "data = pd.DataFrame()\n",
    "\n",
    "# Iterate through brands\n",
    "for brand in brands:\n",
    "    \n",
    "    # Prepare units dataframe\n",
    "    units = data_units[data_units.Brands == brand]\n",
    "    units.rename(columns={'vs. Prior Period' : 'Change in Units'}, inplace=True)\n",
    "\n",
    "    # Add features based on time series\n",
    "    units.insert(4, 'Previous Month Units', units.loc[:, 'Total Units'].shift(1))\n",
    "    units.insert(5, 'Rolling Average Units', units.loc[:, 'Total Units'].shift(1) +\n",
    "                                             units.loc[:, 'Total Units'].shift(2) +\n",
    "                                             units.loc[:, 'Total Units'].shift(3))\n",
    "    units.insert(6, 'Previous Change in Units', units.loc[:, 'Change in Units'].shift(1))\n",
    "\n",
    "    # Prepare sales dataframe for merge\n",
    "    sales = data_sales[data_sales.Brand == brand].copy()\n",
    "    sales.drop('Brand', axis=1, inplace=True)\n",
    "    \n",
    "    # Add features based on time series\n",
    "    sales.insert(2, 'Previous Month Sales', sales.loc[:, 'Total Sales ($)'].shift(1))\n",
    "    sales.insert(3, 'Rolling Average Sales', sales.loc[:, 'Total Sales ($)'].shift(1) +\n",
    "                                             sales.loc[:, 'Total Sales ($)'].shift(2) +\n",
    "                                             sales.loc[:, 'Total Sales ($)'].shift(3))\n",
    "    sales.insert(4, 'Change in Sales', sales.loc[:, 'Total Sales ($)'].shift(1) -\n",
    "                                       sales.loc[:, 'Total Sales ($)'].shift(2))\n",
    "\n",
    "    # Prepare arp dataframe for merge\n",
    "    arp = data_arp[data_arp.Brands == brand].copy()\n",
    "    arp.drop('Brands', axis=1, inplace=True)\n",
    "    arp.rename(columns={'vs. Prior Period' : 'Change in ARP'}, inplace=True)\n",
    "\n",
    "    # Merge units, sales, arp\n",
    "    units = units.merge(sales, left_on='Months', right_on='Months')\n",
    "    units = units.merge(arp, left_on='Months', right_on='Months')\n",
    "\n",
    "    # Prepare the details dataframe for feature extraction\n",
    "    details = data_details[data_details.Brand == brand]\n",
    "\n",
    "    # Extract features from details\n",
    "\n",
    "    # Find total number of well_priced products in this brand\n",
    "    well_priced = 0\n",
    "    # Iterate through categories\n",
    "    for category in categories:\n",
    "        # Separate data of current category\n",
    "        category_data = details.loc[details['Category L2'] == category]\n",
    "        # Find number of products in each increment\n",
    "        increment_counts = category_data['$5 Price Increment'].value_counts()\n",
    "        # Find number of products in well_priced increments\n",
    "        for increment in top_increments[category]:\n",
    "            if increment in increment_counts.index:\n",
    "                well_priced += increment_counts[increment]\n",
    "    # Calculate price_score as percentage of well_priced products out of all products\n",
    "    price_score = well_priced / (details.Brand == brand).count()\n",
    "    # Store the price score\n",
    "    units['Price Score'] = price_score\n",
    "    \n",
    "    # Find the product type this brand stocks most\n",
    "    flagship_type = details['Category L2'].value_counts().index[0]\n",
    "    # Store the flagship type\n",
    "    units['Flagship Type'] = flagship_type\n",
    "    \n",
    "    # Separate products of flagship type\n",
    "    flagship_products = details.loc[details['Category L2'] == flagship_type]\n",
    "    # Store the total sales across all flagship products\n",
    "    units['Flagship Sales'] = sum(flagship_products['Total Sales ($)'])\n",
    "\n",
    "    # Store the number of different product types this brand sells\n",
    "    units['Type Count'] = len(details['Category L2'].unique())\n",
    "\n",
    "    # Store the number of different products this brand sells\n",
    "    units['Product Count'] = (details.Brand == brand).count()\n",
    "    \n",
    "    # Append brand data to all data\n",
    "    data = data.append(units)"
   ]
  },
  {
   "cell_type": "markdown",
   "id": "02b4826e",
   "metadata": {},
   "source": [
    "Drop features that we do not want to train with."
   ]
  },
  {
   "cell_type": "code",
   "execution_count": 7,
   "id": "d363b43a",
   "metadata": {},
   "outputs": [],
   "source": [
    "data.drop('Total Units', axis=1, inplace=True)\n",
    "data.drop('Change in Units', axis=1, inplace=True)\n",
    "data.drop('Total Sales ($)', axis=1, inplace=True)"
   ]
  },
  {
   "cell_type": "markdown",
   "id": "7a52a224",
   "metadata": {},
   "source": [
    "Make 'Months' the index of the dataframe."
   ]
  },
  {
   "cell_type": "code",
   "execution_count": 8,
   "id": "49b48233",
   "metadata": {},
   "outputs": [],
   "source": [
    "data.set_index('Months', inplace=True)"
   ]
  },
  {
   "cell_type": "markdown",
   "id": "ccd63ba9",
   "metadata": {},
   "source": [
    "Plot correlations between features."
   ]
  },
  {
   "cell_type": "code",
   "execution_count": 9,
   "id": "f9fa1196",
   "metadata": {},
   "outputs": [
    {
     "data": {
      "text/plain": [
       "<AxesSubplot:>"
      ]
     },
     "execution_count": 9,
     "metadata": {},
     "output_type": "execute_result"
    },
    {
     "data": {
      "image/png": "[encoded data removed]",
      "text/plain": [
       "<Figure size 1152x1152 with 2 Axes>"
      ]
     },
     "metadata": {
      "needs_background": "light"
     },
     "output_type": "display_data"
    }
   ],
   "source": [
    "import seaborn\n",
    "\n",
    "pyplot.figure(figsize=(16, 16))\n",
    "seaborn.heatmap(data.corr(), annot=True, fmt='.2f')"
   ]
  },
  {
   "cell_type": "markdown",
   "id": "4650dbed",
   "metadata": {},
   "source": [
    "Drop rows with null labels."
   ]
  },
  {
   "cell_type": "code",
   "execution_count": 10,
   "id": "6d8501d6",
   "metadata": {},
   "outputs": [],
   "source": [
    "data.dropna(subset=['Change in Sales'], inplace=True)"
   ]
  },
  {
   "cell_type": "markdown",
   "id": "587c81b7",
   "metadata": {},
   "source": [
    "Separate the label."
   ]
  },
  {
   "cell_type": "code",
   "execution_count": 11,
   "id": "f988cb25",
   "metadata": {},
   "outputs": [],
   "source": [
    "delta_sales = data.pop('Change in Sales')"
   ]
  },
  {
   "cell_type": "markdown",
   "id": "5b5ab28f",
   "metadata": {},
   "source": [
    "Impute null values with forward fill."
   ]
  },
  {
   "cell_type": "code",
   "execution_count": 12,
   "id": "20b208e5",
   "metadata": {},
   "outputs": [
    {
     "data": {
      "text/html": [
       "<div>\n",
       "<style scoped>\n",
       "    .dataframe tbody tr th:only-of-type {\n",
       "        vertical-align: middle;\n",
       "    }\n",
       "\n",
       "    .dataframe tbody tr th {\n",
       "        vertical-align: top;\n",
       "    }\n",
       "\n",
       "    .dataframe thead th {\n",
       "        text-align: right;\n",
       "    }\n",
       "</style>\n",
       "<table border=\"1\" class=\"dataframe\">\n",
       "  <thead>\n",
       "    <tr style=\"text-align: right;\">\n",
       "      <th></th>\n",
       "    </tr>\n",
       "  </thead>\n",
       "  <tbody>\n",
       "  </tbody>\n",
       "</table>\n",
       "</div>"
      ],
      "text/plain": [
       "Empty DataFrame\n",
       "Columns: []\n",
       "Index: []"
      ]
     },
     "execution_count": 12,
     "metadata": {},
     "output_type": "execute_result"
    }
   ],
   "source": [
    "data.groupby('Brands').fillna(method='ffill', inplace=True)"
   ]
  },
  {
   "cell_type": "markdown",
   "id": "f923e1fa",
   "metadata": {},
   "source": [
    "Drop any remaining rows with null values."
   ]
  },
  {
   "cell_type": "code",
   "execution_count": 13,
   "id": "d0b5fa85",
   "metadata": {},
   "outputs": [],
   "source": [
    "not_null = data.notna().all(axis=1)\n",
    "data = data[not_null]\n",
    "delta_sales = delta_sales[not_null]"
   ]
  },
  {
   "cell_type": "markdown",
   "id": "89e1a1ae",
   "metadata": {},
   "source": [
    "Define scaling and encoding pipeline to preprocess data."
   ]
  },
  {
   "cell_type": "code",
   "execution_count": 14,
   "id": "4298485c",
   "metadata": {},
   "outputs": [],
   "source": [
    "from sklearn.compose import ColumnTransformer\n",
    "from sklearn.pipeline import Pipeline\n",
    "from sklearn.preprocessing import StandardScaler\n",
    "from sklearn.preprocessing import OneHotEncoder\n",
    "\n",
    "categorical_features = ['Brands', 'Flagship Type']\n",
    "numerical_features = list(data.drop(columns=categorical_features))\n",
    "\n",
    "preprocessor = ColumnTransformer(\n",
    "    transformers=[\n",
    "        (\"num\", StandardScaler(), numerical_features),\n",
    "        (\"cat\", OneHotEncoder(handle_unknown=\"ignore\"), categorical_features)\n",
    "    ])"
   ]
  },
  {
   "cell_type": "markdown",
   "id": "64556493",
   "metadata": {},
   "source": [
    "Split train and test data."
   ]
  },
  {
   "cell_type": "code",
   "execution_count": 15,
   "id": "653dd240",
   "metadata": {},
   "outputs": [],
   "source": [
    "from sklearn.model_selection import train_test_split\n",
    "\n",
    "train_data, test_data, train_sales, test_sales = train_test_split(data, delta_sales, test_size=0.2)"
   ]
  },
  {
   "cell_type": "markdown",
   "id": "c758b454",
   "metadata": {},
   "source": [
    "Define helper function for model evaluation."
   ]
  },
  {
   "cell_type": "code",
   "execution_count": 16,
   "id": "9c9fe28d",
   "metadata": {},
   "outputs": [],
   "source": [
    "from sklearn import metrics\n",
    "\n",
    "def show_regression_results(y_true, y_pred):\n",
    "    explained_variance = metrics.explained_variance_score(y_true, y_pred)\n",
    "    mean_absolute_error = metrics.mean_absolute_error(y_true, y_pred) \n",
    "    mse = metrics.mean_squared_error(y_true, y_pred) \n",
    "    #mean_squared_log_error = metrics.mean_squared_log_error(y_true, y_pred)\n",
    "    median_absolute_error = metrics.median_absolute_error(y_true, y_pred)\n",
    "    r2 = metrics.r2_score(y_true, y_pred)\n",
    "    print('Explained Variance: ', round(explained_variance, 4))    \n",
    "    print('MAE: ', round(mean_absolute_error, 4))\n",
    "    print('RMSE: ', round(np.sqrt(mse), 4))\n",
    "    #print('MSLE: ', round(mean_squared_log_error, 4))\n",
    "    print('R2: ', round(r2, 4))"
   ]
  },
  {
   "cell_type": "markdown",
   "id": "cc4f772d",
   "metadata": {},
   "source": [
    "Train and test with Linear Regression model."
   ]
  },
  {
   "cell_type": "code",
   "execution_count": 17,
   "id": "9c2581cc",
   "metadata": {},
   "outputs": [
    {
     "name": "stdout",
     "output_type": "stream",
     "text": [
      "Explained Variance:  0.749\n",
      "MAE:  40726.7757\n",
      "RMSE:  104992.6182\n",
      "R2:  0.749\n"
     ]
    }
   ],
   "source": [
    "from sklearn.linear_model import LinearRegression\n",
    "\n",
    "pipeline = Pipeline(\n",
    "    steps=[(\"preprocessor\", preprocessor), (\"regressor\", LinearRegression())]\n",
    ")\n",
    "\n",
    "pipeline.fit(train_data, train_sales)\n",
    "\n",
    "show_regression_results(test_sales, pipeline.predict(test_data))"
   ]
  },
  {
   "cell_type": "markdown",
   "id": "53ba52e7",
   "metadata": {},
   "source": [
    "Train and test with Random Forest Regressor model."
   ]
  },
  {
   "cell_type": "code",
   "execution_count": 18,
   "id": "80dc7a97",
   "metadata": {},
   "outputs": [
    {
     "name": "stdout",
     "output_type": "stream",
     "text": [
      "Explained Variance:  0.8303\n",
      "MAE:  26481.7318\n",
      "RMSE:  86330.402\n",
      "R2:  0.8303\n"
     ]
    }
   ],
   "source": [
    "from sklearn.ensemble import RandomForestRegressor\n",
    "\n",
    "pipeline = Pipeline(\n",
    "    steps=[(\"preprocessor\", preprocessor), (\"regressor\", RandomForestRegressor())]\n",
    ")\n",
    "\n",
    "pipeline.fit(train_data, train_sales)\n",
    "\n",
    "show_regression_results(test_sales, pipeline.predict(test_data))"
   ]
  },
  {
   "cell_type": "markdown",
   "id": "66fffd9f",
   "metadata": {},
   "source": [
    "Train and test with Support Vector Regressor model."
   ]
  },
  {
   "cell_type": "code",
   "execution_count": 19,
   "id": "3136995c",
   "metadata": {},
   "outputs": [
    {
     "name": "stdout",
     "output_type": "stream",
     "text": [
      "Explained Variance:  0.0001\n",
      "MAE:  81870.781\n",
      "RMSE:  209547.5437\n",
      "R2:  0.0\n"
     ]
    }
   ],
   "source": [
    "from sklearn.svm import SVR\n",
    "\n",
    "pipeline = Pipeline(\n",
    "    steps=[(\"preprocessor\", preprocessor), (\"regressor\", SVR())]\n",
    ")\n",
    "\n",
    "pipeline.fit(train_data, train_sales)\n",
    "\n",
    "show_regression_results(test_sales, pipeline.predict(test_data))"
   ]
  },
  {
   "cell_type": "markdown",
   "id": "2c6b376a",
   "metadata": {},
   "source": [
    "Introduce Truncated SVD into pipeline to reduce dimensionality."
   ]
  },
  {
   "cell_type": "code",
   "execution_count": 31,
   "id": "16df0d5d",
   "metadata": {},
   "outputs": [],
   "source": [
    "from sklearn.decomposition import TruncatedSVD\n",
    "\n",
    "tsvd = TruncatedSVD(n_components=6)"
   ]
  },
  {
   "cell_type": "markdown",
   "id": "d88b0ec8",
   "metadata": {},
   "source": [
    "Train and test with Linear Regression model."
   ]
  },
  {
   "cell_type": "code",
   "execution_count": 32,
   "id": "56cbba83",
   "metadata": {},
   "outputs": [
    {
     "name": "stdout",
     "output_type": "stream",
     "text": [
      "Explained Variance:  0.0129\n",
      "MAE:  80924.7819\n",
      "RMSE:  208214.4033\n",
      "R2:  0.0127\n"
     ]
    }
   ],
   "source": [
    "pipeline = Pipeline(\n",
    "    steps=[(\"preprocessor\", preprocessor), (\"tsvd\", tsvd), (\"regressor\", LinearRegression())]\n",
    ")\n",
    "\n",
    "pipeline.fit(train_data, train_sales)\n",
    "\n",
    "show_regression_results(test_sales, pipeline.predict(test_data))"
   ]
  },
  {
   "cell_type": "markdown",
   "id": "1ec28343",
   "metadata": {},
   "source": [
    "Train and test with Random Forest Regressor model."
   ]
  },
  {
   "cell_type": "code",
   "execution_count": 33,
   "id": "e7c420d9",
   "metadata": {},
   "outputs": [
    {
     "name": "stdout",
     "output_type": "stream",
     "text": [
      "Explained Variance:  0.31\n",
      "MAE:  54125.9101\n",
      "RMSE:  174067.1109\n",
      "R2:  0.31\n"
     ]
    }
   ],
   "source": [
    "pipeline = Pipeline(\n",
    "    steps=[(\"preprocessor\", preprocessor), (\"tsvd\", tsvd), (\"regressor\", RandomForestRegressor())]\n",
    ")\n",
    "\n",
    "pipeline.fit(train_data, train_sales)\n",
    "\n",
    "show_regression_results(test_sales, pipeline.predict(test_data))"
   ]
  },
  {
   "cell_type": "markdown",
   "id": "74621446",
   "metadata": {},
   "source": [
    "Train and test with SVR model."
   ]
  },
  {
   "cell_type": "code",
   "execution_count": 34,
   "id": "48dfc3dc",
   "metadata": {},
   "outputs": [
    {
     "name": "stdout",
     "output_type": "stream",
     "text": [
      "Explained Variance:  0.0001\n",
      "MAE:  81865.7469\n",
      "RMSE:  209545.3483\n",
      "R2:  0.0\n"
     ]
    }
   ],
   "source": [
    "pipeline = Pipeline(\n",
    "    steps=[(\"preprocessor\", preprocessor), (\"tsvd\", tsvd), (\"regressor\", SVR())]\n",
    ")\n",
    "\n",
    "pipeline.fit(train_data, train_sales)\n",
    "\n",
    "show_regression_results(test_sales, pipeline.predict(test_data))"
   ]
  },
  {
   "cell_type": "markdown",
   "id": "27518d72",
   "metadata": {},
   "source": [
    "Use K-fold Cross Validation and Grid Search to optimize the models."
   ]
  },
  {
   "cell_type": "code",
   "execution_count": 35,
   "id": "157c21de",
   "metadata": {},
   "outputs": [],
   "source": [
    "from sklearn.model_selection import KFold\n",
    "from sklearn.model_selection import GridSearchCV\n",
    "\n",
    "cv = KFold(n_splits=10, random_state=1, shuffle=True)"
   ]
  },
  {
   "cell_type": "markdown",
   "id": "6097875b",
   "metadata": {},
   "source": [
    "Define helper function for Grid Search evaluation."
   ]
  },
  {
   "cell_type": "code",
   "execution_count": 36,
   "id": "8d20d71f",
   "metadata": {},
   "outputs": [],
   "source": [
    "def show_gridsearch_results(results):\n",
    "    print(f'Best Neg MAE Score: {results.best_score_}')\n",
    "    print(f'Best Hyperparameters: {results.best_params_}')"
   ]
  },
  {
   "cell_type": "markdown",
   "id": "10ce4043",
   "metadata": {},
   "source": [
    "Process data for GridSearch."
   ]
  },
  {
   "cell_type": "code",
   "execution_count": 50,
   "id": "5ec7777c",
   "metadata": {},
   "outputs": [],
   "source": [
    "data_copy = data.copy()\n",
    "data_copy.drop('Brands', axis=1, inplace=True)\n",
    "data_copy.drop('Flagship Type', axis=1, inplace=True)\n",
    "scaler = StandardScaler()\n",
    "processed = scaler.fit_transform(data_copy)"
   ]
  },
  {
   "cell_type": "markdown",
   "id": "ec486601",
   "metadata": {},
   "source": [
    "Optimize Linear Regression model."
   ]
  },
  {
   "cell_type": "code",
   "execution_count": 46,
   "id": "a06fc88d",
   "metadata": {
    "scrolled": true
   },
   "outputs": [
    {
     "name": "stdout",
     "output_type": "stream",
     "text": [
      "Best Neg MAE Score: -81522.30128720791\n",
      "Best Hyperparameters: {'fit_intercept': 'True', 'positive': 'True'}\n"
     ]
    }
   ],
   "source": [
    "param_grid = {\n",
    "    'fit_intercept' : ['True', 'False'],\n",
    "    'positive' : ['True', 'False']\n",
    "}\n",
    "\n",
    "model = LinearRegression()\n",
    "lin_reg_cv = GridSearchCV(estimator=model, param_grid=param_grid, scoring='neg_mean_absolute_error', cv=cv)\n",
    "results = lin_reg_cv.fit(processed, delta_sales)\n",
    "\n",
    "show_gridsearch_results(results)"
   ]
  },
  {
   "cell_type": "markdown",
   "id": "bc215cb9",
   "metadata": {},
   "source": [
    "Optimize Random Forest Regressor model."
   ]
  },
  {
   "cell_type": "code",
   "execution_count": 47,
   "id": "994a1270",
   "metadata": {},
   "outputs": [
    {
     "name": "stdout",
     "output_type": "stream",
     "text": [
      "Best Neg MAE Score: -25839.237422196133\n",
      "Best Hyperparameters: {'max_depth': 15, 'n_estimators': 250, 'n_jobs': -1}\n"
     ]
    }
   ],
   "source": [
    "param_grid = {\n",
    "    'n_estimators': [50, 100, 200, 250],\n",
    "    'max_depth': [10, 15, 20]\n",
    "}\n",
    "\n",
    "rf_reg = RandomForestRegressor()\n",
    "rf_reg_cv = GridSearchCV(estimator=rf_reg, param_grid=param_grid, scoring='neg_mean_absolute_error', cv=cv)\n",
    "result = rf_reg_cv.fit(processed, delta_sales)\n",
    "\n",
    "show_gridsearch_results(result)"
   ]
  },
  {
   "cell_type": "markdown",
   "id": "4b0a69dc",
   "metadata": {},
   "source": [
    "Optimize SVR model."
   ]
  },
  {
   "cell_type": "code",
   "execution_count": 54,
   "id": "9ead8e9c",
   "metadata": {},
   "outputs": [
    {
     "name": "stdout",
     "output_type": "stream",
     "text": [
      "Best Neg MAE Score: -156449.40762880206\n",
      "Best Hyperparameters: {'C': 1000, 'gamma': 1, 'kernel': 'rbf', 'max_iter': 100}\n"
     ]
    },
    {
     "name": "stderr",
     "output_type": "stream",
     "text": [
      "C:\\Users\\sns7a\\anaconda3\\lib\\site-packages\\sklearn\\svm\\_base.py:255: ConvergenceWarning: Solver terminated early (max_iter=100).  Consider pre-processing your data with StandardScaler or MinMaxScaler.\n",
      "  warnings.warn('Solver terminated early (max_iter=%i).'\n"
     ]
    }
   ],
   "source": [
    "param_grid = {\n",
    "    'C': [0.1, 1, 10, 100, 1000],\n",
    "    'gamma': [1, 0.1, 0.01, 0.001, 0.0001],\n",
    "    'kernel': ['rbf'],\n",
    "    'max_iter': [100]\n",
    "    \n",
    "}\n",
    "\n",
    "svr = SVR()\n",
    "svr_cv = GridSearchCV(estimator=svr, param_grid=param_grid, scoring='neg_mean_absolute_error', cv=cv, n_jobs=-1)\n",
    "result = svr_cv.fit(processed, delta_sales)\n",
    "\n",
    "show_gridsearch_results(result)"
   ]
  },
  {
   "cell_type": "code",
   "execution_count": 57,
   "id": "698ac64d",
   "metadata": {},
   "outputs": [
    {
     "name": "stdout",
     "output_type": "stream",
     "text": [
      "                                 OLS Regression Results                                \n",
      "=======================================================================================\n",
      "Dep. Variable:        Change in Sales   R-squared (uncentered):                   0.777\n",
      "Model:                            OLS   Adj. R-squared (uncentered):              0.777\n",
      "Method:                 Least Squares   F-statistic:                              5276.\n",
      "Date:                Sun, 05 Dec 2021   Prob (F-statistic):                        0.00\n",
      "Time:                        10:55:19   Log-Likelihood:                     -2.1643e+05\n",
      "No. Observations:               16696   AIC:                                  4.329e+05\n",
      "Df Residuals:                   16685   BIC:                                  4.330e+05\n",
      "Df Model:                          11                                                  \n",
      "Covariance Type:            nonrobust                                                  \n",
      "==============================================================================\n",
      "                 coef    std err          t      P>|t|      [0.025      0.975]\n",
      "------------------------------------------------------------------------------\n",
      "x1          1.792e+05   1.46e+04     12.299      0.000    1.51e+05    2.08e+05\n",
      "x2         -1.669e+05   1.47e+04    -11.334      0.000   -1.96e+05   -1.38e+05\n",
      "x3          4310.0244    802.288      5.372      0.000    2737.455    5882.594\n",
      "x4          2.216e+06   1.45e+04    152.375      0.000    2.19e+06    2.24e+06\n",
      "x5         -2.213e+06   1.45e+04   -152.998      0.000   -2.24e+06   -2.18e+06\n",
      "x6          2482.5739    920.987      2.696      0.007     677.342    4287.806\n",
      "x7         -1632.4727    808.258     -2.020      0.043   -3216.744     -48.202\n",
      "x8            93.5030    906.932      0.103      0.918   -1684.180    1871.186\n",
      "x9         -1.134e+04   1902.607     -5.959      0.000   -1.51e+04   -7608.680\n",
      "x10        -1633.1083    891.160     -1.833      0.067   -3379.877     113.661\n",
      "x11           92.2126   1234.902      0.075      0.940   -2328.326    2512.752\n",
      "==============================================================================\n",
      "Omnibus:                    15430.682   Durbin-Watson:                   2.920\n",
      "Prob(Omnibus):                  0.000   Jarque-Bera (JB):         27234555.966\n",
      "Skew:                          -3.229   Prob(JB):                         0.00\n",
      "Kurtosis:                     200.755   Cond. No.                         74.1\n",
      "==============================================================================\n",
      "\n",
      "Notes:\n",
      "[1] R² is computed without centering (uncentered) since the model does not contain a constant.\n",
      "[2] Standard Errors assume that the covariance matrix of the errors is correctly specified.\n"
     ]
    }
   ],
   "source": [
    "import statsmodels.api as sm\n",
    "\n",
    "avo_stats = sm.OLS(delta_sales, processed)\n",
    "results_stats = avo_stats.fit()\n",
    "\n",
    "print(results_stats.summary())"
   ]
  },
  {
   "cell_type": "code",
   "execution_count": 60,
   "id": "54f63ac2",
   "metadata": {},
   "outputs": [
    {
     "data": {
      "text/html": [
       "<div>\n",
       "<style scoped>\n",
       "    .dataframe tbody tr th:only-of-type {\n",
       "        vertical-align: middle;\n",
       "    }\n",
       "\n",
       "    .dataframe tbody tr th {\n",
       "        vertical-align: top;\n",
       "    }\n",
       "\n",
       "    .dataframe thead th {\n",
       "        text-align: right;\n",
       "    }\n",
       "</style>\n",
       "<table border=\"1\" class=\"dataframe\">\n",
       "  <thead>\n",
       "    <tr style=\"text-align: right;\">\n",
       "      <th></th>\n",
       "      <th>Previous Month Units</th>\n",
       "      <th>Rolling Average Units</th>\n",
       "      <th>Previous Change in Units</th>\n",
       "      <th>Previous Month Sales</th>\n",
       "      <th>Rolling Average Sales</th>\n",
       "      <th>ARP</th>\n",
       "      <th>Change in ARP</th>\n",
       "      <th>Price Score</th>\n",
       "      <th>Flagship Sales</th>\n",
       "      <th>Type Count</th>\n",
       "      <th>Product Count</th>\n",
       "    </tr>\n",
       "    <tr>\n",
       "      <th>Months</th>\n",
       "      <th></th>\n",
       "      <th></th>\n",
       "      <th></th>\n",
       "      <th></th>\n",
       "      <th></th>\n",
       "      <th></th>\n",
       "      <th></th>\n",
       "      <th></th>\n",
       "      <th></th>\n",
       "      <th></th>\n",
       "      <th></th>\n",
       "    </tr>\n",
       "  </thead>\n",
       "  <tbody>\n",
       "    <tr>\n",
       "      <th>2020-04-01</th>\n",
       "      <td>943.393328</td>\n",
       "      <td>1985.465207</td>\n",
       "      <td>0.354169</td>\n",
       "      <td>30465.470533</td>\n",
       "      <td>62522.895107</td>\n",
       "      <td>32.934344</td>\n",
       "      <td>0.019844</td>\n",
       "      <td>0.467532</td>\n",
       "      <td>115292.416742</td>\n",
       "      <td>2</td>\n",
       "      <td>77</td>\n",
       "    </tr>\n",
       "    <tr>\n",
       "      <th>2020-05-01</th>\n",
       "      <td>712.498102</td>\n",
       "      <td>2352.549861</td>\n",
       "      <td>-0.244750</td>\n",
       "      <td>23465.657692</td>\n",
       "      <td>74197.889232</td>\n",
       "      <td>34.441725</td>\n",
       "      <td>0.045769</td>\n",
       "      <td>0.467532</td>\n",
       "      <td>115292.416742</td>\n",
       "      <td>2</td>\n",
       "      <td>77</td>\n",
       "    </tr>\n",
       "    <tr>\n",
       "      <th>2020-06-01</th>\n",
       "      <td>619.841032</td>\n",
       "      <td>2275.732462</td>\n",
       "      <td>-0.130045</td>\n",
       "      <td>21348.394472</td>\n",
       "      <td>75279.522697</td>\n",
       "      <td>33.114497</td>\n",
       "      <td>-0.038535</td>\n",
       "      <td>0.467532</td>\n",
       "      <td>115292.416742</td>\n",
       "      <td>2</td>\n",
       "      <td>77</td>\n",
       "    </tr>\n",
       "    <tr>\n",
       "      <th>2020-07-01</th>\n",
       "      <td>426.150450</td>\n",
       "      <td>1758.489584</td>\n",
       "      <td>-0.312484</td>\n",
       "      <td>14111.757773</td>\n",
       "      <td>58925.809937</td>\n",
       "      <td>32.131407</td>\n",
       "      <td>-0.029688</td>\n",
       "      <td>0.467532</td>\n",
       "      <td>115292.416742</td>\n",
       "      <td>2</td>\n",
       "      <td>77</td>\n",
       "    </tr>\n",
       "    <tr>\n",
       "      <th>2020-08-01</th>\n",
       "      <td>589.719394</td>\n",
       "      <td>1635.710876</td>\n",
       "      <td>0.383829</td>\n",
       "      <td>18948.514108</td>\n",
       "      <td>54408.666353</td>\n",
       "      <td>32.146382</td>\n",
       "      <td>0.000466</td>\n",
       "      <td>0.467532</td>\n",
       "      <td>115292.416742</td>\n",
       "      <td>2</td>\n",
       "      <td>77</td>\n",
       "    </tr>\n",
       "  </tbody>\n",
       "</table>\n",
       "</div>"
      ],
      "text/plain": [
       "            Previous Month Units  Rolling Average Units  \\\n",
       "Months                                                    \n",
       "2020-04-01            943.393328            1985.465207   \n",
       "2020-05-01            712.498102            2352.549861   \n",
       "2020-06-01            619.841032            2275.732462   \n",
       "2020-07-01            426.150450            1758.489584   \n",
       "2020-08-01            589.719394            1635.710876   \n",
       "\n",
       "            Previous Change in Units  Previous Month Sales  \\\n",
       "Months                                                       \n",
       "2020-04-01                  0.354169          30465.470533   \n",
       "2020-05-01                 -0.244750          23465.657692   \n",
       "2020-06-01                 -0.130045          21348.394472   \n",
       "2020-07-01                 -0.312484          14111.757773   \n",
       "2020-08-01                  0.383829          18948.514108   \n",
       "\n",
       "            Rolling Average Sales        ARP  Change in ARP  Price Score  \\\n",
       "Months                                                                     \n",
       "2020-04-01           62522.895107  32.934344       0.019844     0.467532   \n",
       "2020-05-01           74197.889232  34.441725       0.045769     0.467532   \n",
       "2020-06-01           75279.522697  33.114497      -0.038535     0.467532   \n",
       "2020-07-01           58925.809937  32.131407      -0.029688     0.467532   \n",
       "2020-08-01           54408.666353  32.146382       0.000466     0.467532   \n",
       "\n",
       "            Flagship Sales  Type Count  Product Count  \n",
       "Months                                                 \n",
       "2020-04-01   115292.416742           2             77  \n",
       "2020-05-01   115292.416742           2             77  \n",
       "2020-06-01   115292.416742           2             77  \n",
       "2020-07-01   115292.416742           2             77  \n",
       "2020-08-01   115292.416742           2             77  "
      ]
     },
     "execution_count": 60,
     "metadata": {},
     "output_type": "execute_result"
    }
   ],
   "source": [
    "data_copy.head()"
   ]
  }
 ],
 "metadata": {
  "kernelspec": {
   "display_name": "Python 3",
   "language": "python",
   "name": "python3"
  },
  "language_info": {
   "codemirror_mode": {
    "name": "ipython",
    "version": 3
   },
   "file_extension": ".py",
   "mimetype": "text/x-python",
   "name": "python",
   "nbconvert_exporter": "python",
   "pygments_lexer": "ipython3",
   "version": "3.8.8"
  }
 },
 "nbformat": 4,
 "nbformat_minor": 5
}
